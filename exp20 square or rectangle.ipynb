{
 "cells": [
  {
   "cell_type": "code",
   "execution_count": 8,
   "metadata": {},
   "outputs": [
    {
     "name": "stdout",
     "output_type": "stream",
     "text": [
      "enter a length rectangle:3\n",
      "enter a breadth rectangle:3\n",
      "it is a square\n"
     ]
    }
   ],
   "source": [
    "import math\n",
    "a=int(input(\"enter a length rectangle:\"))\n",
    "b=int(input(\"enter a breadth rectangle:\"))\n",
    "if(a==b):\n",
    "    print(\"it is a square\")\n",
    "else:\n",
    "    print(\"it is rectangle\")\n",
    "\n"
   ]
  },
  {
   "cell_type": "code",
   "execution_count": 10,
   "metadata": {},
   "outputs": [
    {
     "name": "stdout",
     "output_type": "stream",
     "text": [
      "enter a length rectangle:3\n",
      "enter a breadth rectangle:3\n",
      "it is a square\n"
     ]
    }
   ],
   "source": [
    "import math\n",
    "a=int(input(\"enter a length rectangle:\"))\n",
    "b=int(input(\"enter a breadth rectangle:\"))\n",
    "if(a==b):\n",
    "    print(\"it is a square\")\n",
    "elif(a!=b):\n",
    "    print(\"it is rectangle\")\n",
    "\n"
   ]
  },
  {
   "cell_type": "code",
   "execution_count": 7,
   "metadata": {},
   "outputs": [
    {
     "data": {
      "text/plain": [
       "3"
      ]
     },
     "execution_count": 7,
     "metadata": {},
     "output_type": "execute_result"
    }
   ],
   "source": [
    "\n",
    "\n"
   ]
  },
  {
   "cell_type": "code",
   "execution_count": null,
   "metadata": {
    "collapsed": true
   },
   "outputs": [],
   "source": []
  }
 ],
 "metadata": {
  "kernelspec": {
   "display_name": "Python 3",
   "language": "python",
   "name": "python3"
  },
  "language_info": {
   "codemirror_mode": {
    "name": "ipython",
    "version": 3
   },
   "file_extension": ".py",
   "mimetype": "text/x-python",
   "name": "python",
   "nbconvert_exporter": "python",
   "pygments_lexer": "ipython3",
   "version": "3.6.3"
  }
 },
 "nbformat": 4,
 "nbformat_minor": 2
}
