{
 "cells": [
  {
   "cell_type": "code",
   "execution_count": 2,
   "metadata": {},
   "outputs": [
    {
     "name": "stdout",
     "output_type": "stream",
     "text": [
      "enter year to be checked:1998\n",
      "1998  is not a leapyear \n"
     ]
    }
   ],
   "source": [
    "year=int(input(\"enter year to be checked:\"))\n",
    "if(year%4==0):\n",
    "    print(year,\"  is a leapyear\")\n",
    "elif(year%4!=0):\n",
    "    print(year,\" is not a leapyear \")"
   ]
  },
  {
   "cell_type": "code",
   "execution_count": 9,
   "metadata": {},
   "outputs": [
    {
     "name": "stdout",
     "output_type": "stream",
     "text": [
      "enter year to be checked:2002\n",
      "year is not a leapyear \n"
     ]
    }
   ],
   "source": [
    "year=int(input(\"enter year to be checked:\"))\n",
    "if(year%400==0):\n",
    "    print(\" year is a leapyear\")\n",
    "elif(year%400!=0):\n",
    "    print(\"year is not a leapyear \")"
   ]
  },
  {
   "cell_type": "code",
   "execution_count": null,
   "metadata": {
    "collapsed": true
   },
   "outputs": [],
   "source": []
  },
  {
   "cell_type": "code",
   "execution_count": null,
   "metadata": {
    "collapsed": true
   },
   "outputs": [],
   "source": []
  }
 ],
 "metadata": {
  "kernelspec": {
   "display_name": "Python 3",
   "language": "python",
   "name": "python3"
  },
  "language_info": {
   "codemirror_mode": {
    "name": "ipython",
    "version": 3
   },
   "file_extension": ".py",
   "mimetype": "text/x-python",
   "name": "python",
   "nbconvert_exporter": "python",
   "pygments_lexer": "ipython3",
   "version": "3.6.3"
  }
 },
 "nbformat": 4,
 "nbformat_minor": 2
}
