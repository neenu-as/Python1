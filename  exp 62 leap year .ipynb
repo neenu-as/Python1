{
 "cells": [
  {
   "cell_type": "code",
   "execution_count": 1,
   "metadata": {},
   "outputs": [
    {
     "name": "stdout",
     "output_type": "stream",
     "text": [
      "enter first year:1994\n",
      "enter second year:2001\n",
      "leap years between  1994 and 2001 :\n",
      "1996\n",
      "2000\n"
     ]
    }
   ],
   "source": [
    "def leap(l,u):\n",
    "    print(\"leap years between \",l,\"and\",u,\":\")\n",
    "    for i in range (l,u+1):\n",
    "        if(i%4==0)and (i%100!=0)or (i%400==0):\n",
    "            print(i)\n",
    "a=int(input(\"enter first year:\"))\n",
    "b=int(input(\"enter second year:\"))\n",
    "leap(a,b)"
   ]
  },
  {
   "cell_type": "code",
   "execution_count": null,
   "metadata": {
    "collapsed": true
   },
   "outputs": [],
   "source": []
  }
 ],
 "metadata": {
  "kernelspec": {
   "display_name": "Python 3",
   "language": "python",
   "name": "python3"
  },
  "language_info": {
   "codemirror_mode": {
    "name": "ipython",
    "version": 3
   },
   "file_extension": ".py",
   "mimetype": "text/x-python",
   "name": "python",
   "nbconvert_exporter": "python",
   "pygments_lexer": "ipython3",
   "version": "3.6.3"
  }
 },
 "nbformat": 4,
 "nbformat_minor": 2
}
