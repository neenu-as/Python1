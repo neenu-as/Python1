{
 "cells": [
  {
   "cell_type": "code",
   "execution_count": 5,
   "metadata": {},
   "outputs": [
    {
     "name": "stdout",
     "output_type": "stream",
     "text": [
      "1.rectangle \n",
      " 2. circle\n",
      " 3.cuboid\n",
      " 4.sphere\n",
      " 5.exit\n",
      "enter your choice:1\n",
      "enter length:3\n",
      "enter the breadth:4\n",
      "Area of rectangle: 12\n",
      "perimeter of rectangle: 14\n",
      "1.rectangle \n",
      " 2. circle\n",
      " 3.cuboid\n",
      " 4.sphere\n",
      " 5.exit\n",
      "enter your choice:2\n",
      "enter the radius:4\n",
      "area of circle :  50.24\n",
      "perimeter of circle : 25.12\n",
      "1.rectangle \n",
      " 2. circle\n",
      " 3.cuboid\n",
      " 4.sphere\n",
      " 5.exit\n",
      "enter your choice:3\n",
      "enter length:4\n",
      "enter the breadth:3\n",
      "enter the height:5\n",
      "area of cuboid: 94\n",
      "perimeter of cuboid: 48\n",
      "1.rectangle \n",
      " 2. circle\n",
      " 3.cuboid\n",
      " 4.sphere\n",
      " 5.exit\n",
      "enter your choice:4\n",
      "enter the radius:4\n",
      "area of sphere : 100.48\n",
      "perimeter of sphere: 200.96\n",
      "1.rectangle \n",
      " 2. circle\n",
      " 3.cuboid\n",
      " 4.sphere\n",
      " 5.exit\n",
      "enter your choice:5\n",
      "exiting...\n"
     ]
    }
   ],
   "source": [
    "from graphics import rectangle\n",
    "from graphics import circle\n",
    "from graphics.graphics3D import cuboid\n",
    "from graphics.graphics3D import sphere\n",
    "while(1):\n",
    "    print(\"1.rectangle \\n 2. circle\\n 3.cuboid\\n 4.sphere\\n 5.exit\")\n",
    "    ch=int(input(\"enter your choice:\"))\n",
    "    if ch==1:\n",
    "        l=int(input(\"enter length:\"))\n",
    "        b=int(input(\"enter the breadth:\"))\n",
    "        rectangle.rectarea(l,b)\n",
    "        rectangle.rectperi(l,b)\n",
    "        \n",
    "    elif ch==2:\n",
    "        r=int(input(\"enter the radius:\"))\n",
    "        circle.circlearea(r)\n",
    "        circle.circleperi(r)\n",
    "    elif ch==3:\n",
    "        l=int(input(\"enter length:\"))\n",
    "        b=int(input(\"enter the breadth:\"))\n",
    "        h=int(input(\"enter the height:\"))\n",
    "        cuboid.cuboidarea(l,b,h)\n",
    "        cuboid.cuboidperi(l,b,h)\n",
    "    elif ch==4:\n",
    "        r=int(input(\"enter the radius:\"))\n",
    "        sphere.spherearea(r)\n",
    "        sphere.sphereperi(r)\n",
    "    else:\n",
    "        print(\"exiting...\")\n",
    "        break"
   ]
  },
  {
   "cell_type": "code",
   "execution_count": null,
   "metadata": {
    "collapsed": true
   },
   "outputs": [],
   "source": []
  }
 ],
 "metadata": {
  "kernelspec": {
   "display_name": "Python 3",
   "language": "python",
   "name": "python3"
  },
  "language_info": {
   "codemirror_mode": {
    "name": "ipython",
    "version": 3
   },
   "file_extension": ".py",
   "mimetype": "text/x-python",
   "name": "python",
   "nbconvert_exporter": "python",
   "pygments_lexer": "ipython3",
   "version": "3.6.3"
  }
 },
 "nbformat": 4,
 "nbformat_minor": 2
}
