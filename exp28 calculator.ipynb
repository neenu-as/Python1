{
 "cells": [
  {
   "cell_type": "code",
   "execution_count": 2,
   "metadata": {},
   "outputs": [
    {
     "name": "stdout",
     "output_type": "stream",
     "text": [
      "select the operation\n",
      "1.add\n",
      "2.substraction\n",
      "3.multiplication\n",
      "4.division\n",
      "enter the first number:3\n",
      "enter the second number:4\n",
      "enter the choice:3\n",
      "multiplication:12.00\n"
     ]
    }
   ],
   "source": [
    "print(\"select the operation\")\n",
    "print(\"1.add\")\n",
    "print(\"2.substraction\")\n",
    "print(\"3.multiplication\")\n",
    "print(\"4.division\")\n",
    "num1=float(input(\"enter the first number:\"))\n",
    "num2=float(input(\"enter the second number:\")) \n",
    "choice=int(input(\"enter the choice:\"))\n",
    "if(choice==1):           \n",
    "    print(\"addition:%.2f\"%(num1+num2))\n",
    "elif(choice==2):\n",
    "    print(\"substraction:%.2f\"%(num1-num2))\n",
    "elif(choice==3):\n",
    "    print(\"multiplication:%.2f\"%(num1*num2))\n",
    "elif(choice==4):\n",
    "    print(\"division:%.2f\"%(num1/num2))\n",
    "else:\n",
    "    print(\"invalid\")\n",
    "           \n",
    "           "
   ]
  },
  {
   "cell_type": "code",
   "execution_count": null,
   "metadata": {
    "collapsed": true
   },
   "outputs": [],
   "source": []
  },
  {
   "cell_type": "code",
   "execution_count": null,
   "metadata": {
    "collapsed": true
   },
   "outputs": [],
   "source": []
  },
  {
   "cell_type": "code",
   "execution_count": null,
   "metadata": {
    "collapsed": true
   },
   "outputs": [],
   "source": []
  }
 ],
 "metadata": {
  "kernelspec": {
   "display_name": "Python 3",
   "language": "python",
   "name": "python3"
  },
  "language_info": {
   "codemirror_mode": {
    "name": "ipython",
    "version": 3
   },
   "file_extension": ".py",
   "mimetype": "text/x-python",
   "name": "python",
   "nbconvert_exporter": "python",
   "pygments_lexer": "ipython3",
   "version": "3.6.3"
  }
 },
 "nbformat": 4,
 "nbformat_minor": 2
}
