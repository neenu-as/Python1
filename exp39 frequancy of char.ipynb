{
 "cells": [
  {
   "cell_type": "code",
   "execution_count": 2,
   "metadata": {},
   "outputs": [
    {
     "name": "stdout",
     "output_type": "stream",
     "text": [
      "enter a string:butterfly\n",
      "b frequancy of charecter 1 time(s))\n",
      "u frequancy of charecter 1 time(s))\n",
      "t frequancy of charecter 2 time(s))\n",
      "e frequancy of charecter 1 time(s))\n",
      "r frequancy of charecter 1 time(s))\n",
      "f frequancy of charecter 1 time(s))\n",
      "l frequancy of charecter 1 time(s))\n",
      "y frequancy of charecter 1 time(s))\n"
     ]
    }
   ],
   "source": [
    "#count the number of charecters in a string\n",
    "s=input(\"enter a string:\")\n",
    "c={}\n",
    "for i in s:\n",
    "    if i in c:\n",
    "        c[i]=c[i]+1\n",
    "    else:\n",
    "        c[i]=1\n",
    "for keys, value in c.items():\n",
    "    print(keys, 'frequancy of charecter',value,'time(s))')\n",
    "        "
   ]
  },
  {
   "cell_type": "code",
   "execution_count": null,
   "metadata": {
    "collapsed": true
   },
   "outputs": [],
   "source": []
  }
 ],
 "metadata": {
  "kernelspec": {
   "display_name": "Python 3",
   "language": "python",
   "name": "python3"
  },
  "language_info": {
   "codemirror_mode": {
    "name": "ipython",
    "version": 3
   },
   "file_extension": ".py",
   "mimetype": "text/x-python",
   "name": "python",
   "nbconvert_exporter": "python",
   "pygments_lexer": "ipython3",
   "version": "3.6.3"
  }
 },
 "nbformat": 4,
 "nbformat_minor": 2
}
