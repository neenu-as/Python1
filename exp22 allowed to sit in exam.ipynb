{
 "cells": [
  {
   "cell_type": "code",
   "execution_count": 1,
   "metadata": {},
   "outputs": [
    {
     "name": "stdout",
     "output_type": "stream",
     "text": [
      "number of classes held:20\n",
      "number of classes attended:19\n",
      "percentage of class attended: 95.0\n",
      "student will be allowed to sit in exam\n"
     ]
    }
   ],
   "source": [
    "a=int(input(\"number of classes held:\"))\n",
    "b=int(input(\"number of classes attended:\"))\n",
    "c=(b/a)*100\n",
    "print(\"percentage of class attended:\",c)\n",
    "if(c<75):\n",
    "    print(\"the student will not be allowed to sit in exam\")\n",
    "else:\n",
    "    print(\"student will be allowed to sit in exam\")"
   ]
  },
  {
   "cell_type": "code",
   "execution_count": null,
   "metadata": {
    "collapsed": true
   },
   "outputs": [],
   "source": []
  }
 ],
 "metadata": {
  "kernelspec": {
   "display_name": "Python 3",
   "language": "python",
   "name": "python3"
  },
  "language_info": {
   "codemirror_mode": {
    "name": "ipython",
    "version": 3
   },
   "file_extension": ".py",
   "mimetype": "text/x-python",
   "name": "python",
   "nbconvert_exporter": "python",
   "pygments_lexer": "ipython3",
   "version": "3.6.3"
  }
 },
 "nbformat": 4,
 "nbformat_minor": 2
}
