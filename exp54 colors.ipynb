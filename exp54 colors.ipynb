{
 "cells": [
  {
   "cell_type": "code",
   "execution_count": 4,
   "metadata": {},
   "outputs": [
    {
     "name": "stdout",
     "output_type": "stream",
     "text": [
      "orginal set of colors:\n",
      "{'green', 'yellow', 'purple'}\n",
      "{'green', 'red'}\n",
      "\n",
      "colors in color_list1 not contained in color_list2:\n",
      "{'purple', 'yellow'}\n"
     ]
    }
   ],
   "source": [
    "#print out all colors from color list1 not contained in color list2\n",
    "color_list1=set([\"yellow\",\"green\",\"purple\"])\n",
    "color_list2=set([\"red\",\"green\"])\n",
    "print(\"orginal set of colors:\")\n",
    "print(color_list1)\n",
    "print(color_list2)\n",
    "print(\"\\ncolors in color_list1 not contained in color_list2:\")\n",
    "print(color_list1.difference(color_list2))\n",
    "\n"
   ]
  },
  {
   "cell_type": "code",
   "execution_count": null,
   "metadata": {
    "collapsed": true
   },
   "outputs": [],
   "source": []
  }
 ],
 "metadata": {
  "kernelspec": {
   "display_name": "Python 3",
   "language": "python",
   "name": "python3"
  },
  "language_info": {
   "codemirror_mode": {
    "name": "ipython",
    "version": 3
   },
   "file_extension": ".py",
   "mimetype": "text/x-python",
   "name": "python",
   "nbconvert_exporter": "python",
   "pygments_lexer": "ipython3",
   "version": "3.6.3"
  }
 },
 "nbformat": 4,
 "nbformat_minor": 2
}
