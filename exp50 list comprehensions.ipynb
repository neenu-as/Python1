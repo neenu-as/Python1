{
 "cells": [
  {
   "cell_type": "code",
   "execution_count": null,
   "metadata": {
    "collapsed": true
   },
   "outputs": [],
   "source": []
  },
  {
   "cell_type": "code",
   "execution_count": 2,
   "metadata": {},
   "outputs": [
    {
     "name": "stdout",
     "output_type": "stream",
     "text": [
      "enter the number seperated by comma:1,8,-5,6\n",
      "positive integers in the list: [1, 8, 6]\n",
      "square of numbers [1, 64, 25, 36]\n",
      "enter the word:butterfly\n",
      "the vowels are : ['u']\n",
      "the ordinal values of the word butterfly is [98, 117, 116, 116, 101, 114, 102, 108, 121] \n"
     ]
    }
   ],
   "source": [
    "#using list comprehension:\n",
    "n=input(\"enter the number seperated by comma:\").split(\",\")\n",
    "b=map(int,n)\n",
    "nl=[x for x in b if x>0]\n",
    "print(\"positive integers in the list:\",nl)\n",
    "d=map(int,n)butterfly\n",
    "#square of n numbers \n",
    "nl2=[x**2 for x in d]\n",
    "print(\"square of numbers\",nl2)\n",
    "#vowels\n",
    "w=input(\"enter the word:\")\n",
    "vowels=[\"a,\"\"e\",\"i\",\"o\",\"u\",\"A\",\"E\",\"I\",\"O\",\"U\"]\n",
    "list=[v for v in w if any (char in vowels for char in v)]\n",
    "print(\"the vowels are :\",list)\n",
    "z=[ord(x) for x in w]\n",
    "print(\"the ordinal values of the word %s is %s \"%(w,z))"
   ]
  },
  {
   "cell_type": "code",
   "execution_count": null,
   "metadata": {
    "collapsed": true
   },
   "outputs": [],
   "source": []
  }
 ],
 "metadata": {
  "kernelspec": {
   "display_name": "Python 3",
   "language": "python",
   "name": "python3"
  },
  "language_info": {
   "codemirror_mode": {
    "name": "ipython",
    "version": 3
   },
   "file_extension": ".py",
   "mimetype": "text/x-python",
   "name": "python",
   "nbconvert_exporter": "python",
   "pygments_lexer": "ipython3",
   "version": "3.6.3"
  }
 },
 "nbformat": 4,
 "nbformat_minor": 2
}
