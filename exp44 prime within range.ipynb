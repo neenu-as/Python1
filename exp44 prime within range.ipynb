{
 "cells": [
  {
   "cell_type": "code",
   "execution_count": 2,
   "metadata": {},
   "outputs": [
    {
     "name": "stdout",
     "output_type": "stream",
     "text": [
      "enter the lower range:10\n",
      "enter the upper range:30\n",
      "prime numbers within range are:\n",
      "11 13 17 19 23 29 "
     ]
    }
   ],
   "source": [
    "#prime numbers within range\n",
    "start=int(input(\"enter the lower range:\"))\n",
    "stop=int(input(\"enter the upper range:\"))\n",
    "print(\"prime numbers within range are:\")\n",
    "for val in range(start,stop):\n",
    "    if(val>1):\n",
    "        for i in range(2,val):\n",
    "            if(val%i)==0:\n",
    "                break\n",
    "        else:\n",
    "                print(val,end=\" \")"
   ]
  },
  {
   "cell_type": "code",
   "execution_count": null,
   "metadata": {
    "collapsed": true
   },
   "outputs": [],
   "source": []
  }
 ],
 "metadata": {
  "kernelspec": {
   "display_name": "Python 3",
   "language": "python",
   "name": "python3"
  },
  "language_info": {
   "codemirror_mode": {
    "name": "ipython",
    "version": 3
   },
   "file_extension": ".py",
   "mimetype": "text/x-python",
   "name": "python",
   "nbconvert_exporter": "python",
   "pygments_lexer": "ipython3",
   "version": "3.6.3"
  }
 },
 "nbformat": 4,
 "nbformat_minor": 2
}
