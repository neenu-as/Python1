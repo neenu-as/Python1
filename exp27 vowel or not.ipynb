{
 "cells": [
  {
   "cell_type": "code",
   "execution_count": 1,
   "metadata": {},
   "outputs": [
    {
     "name": "stdout",
     "output_type": "stream",
     "text": [
      "enter a alphabet:a\n",
      "a  is a vowel\n"
     ]
    }
   ],
   "source": [
    "ch=input(\"enter a alphabet:\")\n",
    "if(ch=='a' or ch=='A' or ch=='e' or ch=='E' or ch=='i' or ch=='i' or ch=='O' or ch=='o' or ch=='U' or ch=='u' ):\n",
    "    print(ch,\" is a vowel\")\n",
    "else:\n",
    "    print(ch,\" is not a vowel\")"
   ]
  },
  {
   "cell_type": "code",
   "execution_count": null,
   "metadata": {
    "collapsed": true
   },
   "outputs": [],
   "source": []
  }
 ],
 "metadata": {
  "kernelspec": {
   "display_name": "Python 3",
   "language": "python",
   "name": "python3"
  },
  "language_info": {
   "codemirror_mode": {
    "name": "ipython",
    "version": 3
   },
   "file_extension": ".py",
   "mimetype": "text/x-python",
   "name": "python",
   "nbconvert_exporter": "python",
   "pygments_lexer": "ipython3",
   "version": "3.6.3"
  }
 },
 "nbformat": 4,
 "nbformat_minor": 2
}
