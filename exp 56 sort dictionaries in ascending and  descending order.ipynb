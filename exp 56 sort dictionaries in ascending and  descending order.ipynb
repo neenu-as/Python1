{
 "cells": [
  {
   "cell_type": "code",
   "execution_count": 2,
   "metadata": {},
   "outputs": [
    {
     "name": "stdout",
     "output_type": "stream",
     "text": [
      "ascending order is : [('buji', 14), ('dora', 15), ('jerry', 13), ('tom', 12)]\n",
      "descending order is: [('tom', 12), ('jerry', 13), ('dora', 15), ('buji', 14)]\n",
      "dictionary {'tom': 12, 'jerry': 13, 'dora': 15, 'buji': 14}\n"
     ]
    }
   ],
   "source": [
    "#sort dictionaries in ascending and  descending order:\n",
    "a={'tom':12,'jerry':13,'dora':15,'buji':14}\n",
    "l=list(a.items())\n",
    "l.sort()\n",
    "print('ascending order is :',l)\n",
    "l=list(a.items())\n",
    "l.sort(reverse=True)\n",
    "print('descending order is:',l)\n",
    "dict=dict(l)\n",
    "print(\"dictionary\",dict)"
   ]
  },
  {
   "cell_type": "code",
   "execution_count": null,
   "metadata": {
    "collapsed": true
   },
   "outputs": [],
   "source": []
  }
 ],
 "metadata": {
  "kernelspec": {
   "display_name": "Python 3",
   "language": "python",
   "name": "python3"
  },
  "language_info": {
   "codemirror_mode": {
    "name": "ipython",
    "version": 3
   },
   "file_extension": ".py",
   "mimetype": "text/x-python",
   "name": "python",
   "nbconvert_exporter": "python",
   "pygments_lexer": "ipython3",
   "version": "3.6.3"
  }
 },
 "nbformat": 4,
 "nbformat_minor": 2
}
