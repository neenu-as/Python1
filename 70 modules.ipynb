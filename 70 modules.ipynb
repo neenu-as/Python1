{
 "cells": [
  {
   "cell_type": "code",
   "execution_count": null,
   "metadata": {},
   "outputs": [
    {
     "name": "stdout",
     "output_type": "stream",
     "text": [
      "1.rectangle\n",
      " 2.circle\n",
      " 3.exit\n",
      "enter your choice:1\n",
      "enter length4\n",
      "enter breadth3\n",
      "Area of rectangle: 12\n",
      "perimeter of rectangle: 14\n",
      "1.rectangle\n",
      " 2.circle\n",
      " 3.exit\n",
      "enter your choice:2\n",
      "enter radius4\n",
      "area of circle :  50.24\n",
      "perimeter of circle : 25.12\n",
      "1.rectangle\n",
      " 2.circle\n",
      " 3.exit\n"
     ]
    }
   ],
   "source": [
    "import rectangle\n",
    "import circ\n",
    "while(1):\n",
    "    print(\"1.rectangle\\n 2.circle\\n 3.exit\")\n",
    "    ch=int(input(\"enter your choice:\"))\n",
    "    if ch==1:\n",
    "        l=int(input(\"enter length\"))\n",
    "        b=int(input(\"enter breadth\"))\n",
    "        rectangle.rectarea(l,b)\n",
    "        rectangle.rectperi(l,b)\n",
    "    elif ch==2:\n",
    "        r=int(input(\"enter radius\"))\n",
    "        circ.circlearea(r)\n",
    "        circ.circleperi(r)\n",
    "    else:\n",
    "        print(\"exiting...\")\n",
    "        break\n",
    "    "
   ]
  },
  {
   "cell_type": "code",
   "execution_count": null,
   "metadata": {
    "collapsed": true
   },
   "outputs": [],
   "source": []
  }
 ],
 "metadata": {
  "kernelspec": {
   "display_name": "Python 3",
   "language": "python",
   "name": "python3"
  },
  "language_info": {
   "codemirror_mode": {
    "name": "ipython",
    "version": 3
   },
   "file_extension": ".py",
   "mimetype": "text/x-python",
   "name": "python",
   "nbconvert_exporter": "python",
   "pygments_lexer": "ipython3",
   "version": "3.6.3"
  }
 },
 "nbformat": 4,
 "nbformat_minor": 2
}
