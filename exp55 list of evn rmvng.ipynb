{
 "cells": [
  {
   "cell_type": "code",
   "execution_count": 2,
   "metadata": {},
   "outputs": [
    {
     "name": "stdout",
     "output_type": "stream",
     "text": [
      "list items=  [10, 27, 37, 44, 51, 65, 71, 84, 91]\n",
      "list items after removing even item= [27, 37, 51, 65, 71, 91]\n"
     ]
    }
   ],
   "source": [
    "#removing list o integers\n",
    "evenlist=[10,27,37,44,51,65,71,84,91]\n",
    "print(\"list items= \",evenlist)\n",
    "for ev in evenlist:\n",
    "        if(ev %2==0):\n",
    "            evenlist.remove(ev)\n",
    "print(\"list items after removing even item=\",evenlist)        \n",
    "        "
   ]
  },
  {
   "cell_type": "code",
   "execution_count": null,
   "metadata": {
    "collapsed": true
   },
   "outputs": [],
   "source": []
  }
 ],
 "metadata": {
  "kernelspec": {
   "display_name": "Python 3",
   "language": "python",
   "name": "python3"
  },
  "language_info": {
   "codemirror_mode": {
    "name": "ipython",
    "version": 3
   },
   "file_extension": ".py",
   "mimetype": "text/x-python",
   "name": "python",
   "nbconvert_exporter": "python",
   "pygments_lexer": "ipython3",
   "version": "3.6.3"
  }
 },
 "nbformat": 4,
 "nbformat_minor": 2
}
