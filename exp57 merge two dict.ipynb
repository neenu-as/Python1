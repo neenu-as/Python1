{
 "cells": [
  {
   "cell_type": "code",
   "execution_count": 1,
   "metadata": {},
   "outputs": [
    {
     "name": "stdout",
     "output_type": "stream",
     "text": [
      "first: {1: 'blue', 2: 'pink', 3: 'green', 4: 'yellow'}\n",
      "second: {5: 'black', 6: 'red'}\n",
      "\n",
      " after concatenation:\n",
      "{1: 'blue', 2: 'pink', 3: 'green', 4: 'yellow', 5: 'black', 6: 'red'}\n"
     ]
    }
   ],
   "source": [
    "#merge two numbers\n",
    "first_dict={1:'blue',2:'pink',3:'green',4:'yellow'}\n",
    "snd_dict={5:'black',6:'red'}\n",
    "print(\"first:\",first_dict)\n",
    "print(\"second:\",snd_dict)\n",
    "first_dict.update(snd_dict)\n",
    "print(\"\\n after concatenation:\")\n",
    "print(first_dict)\n"
   ]
  },
  {
   "cell_type": "code",
   "execution_count": null,
   "metadata": {
    "collapsed": true
   },
   "outputs": [],
   "source": []
  }
 ],
 "metadata": {
  "kernelspec": {
   "display_name": "Python 3",
   "language": "python",
   "name": "python3"
  },
  "language_info": {
   "codemirror_mode": {
    "name": "ipython",
    "version": 3
   },
   "file_extension": ".py",
   "mimetype": "text/x-python",
   "name": "python",
   "nbconvert_exporter": "python",
   "pygments_lexer": "ipython3",
   "version": "3.6.3"
  }
 },
 "nbformat": 4,
 "nbformat_minor": 2
}
